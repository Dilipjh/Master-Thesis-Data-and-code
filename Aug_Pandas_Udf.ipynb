{
 "cells": [
  {
   "cell_type": "code",
   "execution_count": null,
   "metadata": {},
   "outputs": [],
   "source": [
    "import findspark\n",
    "findspark.init()\n",
    "import pyspark # only run after findspark.init()\n",
    "\n",
    "from pyspark import SparkContext, SparkConf\n",
    "from pyspark.sql import SparkSession\n",
    "\n",
    "conf = pyspark.SparkConf().setAppName('TriangleStrangle').setMaster('local[*]') # local implies on this comp\n",
    "sc = pyspark.SparkContext.getOrCreate(conf=conf)\n",
    "spark = SparkSession(sc)\n",
    "\n",
    "from pyspark.sql.functions import pandas_udf, PandasUDFType # needed to use pandas UDF functions\n",
    "from pyspark.sql.types import MapType, StructType, ArrayType, StructField # might be useful in converitng dtypes\n",
    "spark.conf.set(\"spark.sql.execution.arrow.enabled\", \"true\") # setting this here to impove the performance of toPandas()\n",
    "\n",
    "import numpy as np\n",
    "from scipy.spatial import Delaunay\n",
    "import math\n",
    "import matplotlib\n",
    "import matplotlib.pyplot as plt\n",
    "import matplotlib.tri as mtri\n",
    "from mpl_toolkits.mplot3d import Axes3D\n",
    "import pandas as pd\n",
    "from IPython.display import display\n",
    "\n",
    "import plotly as py\n",
    "#import chart_studio.plotly as psi\n",
    "import plotly.graph_objects as go\n",
    "import matplotlib.cm as cm\n",
    "from plotly.offline import iplot\n",
    "import pyarrow\n",
    "#psi.sign_in('Dilipjhiremath', 'kI7Zmxhke3ebmpSgIWwk')"
   ]
  },
  {
   "cell_type": "code",
   "execution_count": null,
   "metadata": {},
   "outputs": [],
   "source": []
  },
  {
   "cell_type": "code",
   "execution_count": null,
   "metadata": {},
   "outputs": [],
   "source": [
    "# adding more controll to the script trial\n",
    "'''\n",
    "\n",
    "conf = SparkConf().setAppName(\"TIN\").setMaster(\"local[*]\")\n",
    "sc = SparkContext.getOrCreate(conf = conf)\n",
    "#spark.conf.set(\"spark.sql.execution.arrow.enabled\", \"true\")\n",
    "\n",
    "'''"
   ]
  },
  {
   "cell_type": "code",
   "execution_count": null,
   "metadata": {},
   "outputs": [],
   "source": [
    "#df_sample_data1 = spark.read.csv(\"C:\\\\DJ\\\\Jacobs\\\\4 Sem\\\\Thesis\\\\sample data\\\\for_test\\\\002LeeHillMed.csv\", header = False, inferSchema = True)\n",
    "\n",
    "df4 = spark.read.csv(\"C:\\\\DJ\\\\Jacobs\\\\4 Sem\\\\Thesis\\\\sample data\\\\for_test\\\\house.csv\", header = True, inferSchema = True)"
   ]
  },
  {
   "cell_type": "code",
   "execution_count": null,
   "metadata": {},
   "outputs": [],
   "source": [
    "#print(type(df_sample_data1))"
   ]
  },
  {
   "cell_type": "code",
   "execution_count": null,
   "metadata": {},
   "outputs": [],
   "source": [
    "#df4 = df_sample_data1.toDF('Xaxis', 'Yaxis','Zaxis')"
   ]
  },
  {
   "cell_type": "code",
   "execution_count": null,
   "metadata": {},
   "outputs": [],
   "source": [
    "#df4.printSchema()"
   ]
  },
  {
   "cell_type": "code",
   "execution_count": null,
   "metadata": {},
   "outputs": [],
   "source": [
    "df4.show(9)"
   ]
  },
  {
   "cell_type": "code",
   "execution_count": null,
   "metadata": {},
   "outputs": [],
   "source": [
    "df4.rdd.getNumPartitions()"
   ]
  },
  {
   "cell_type": "code",
   "execution_count": null,
   "metadata": {},
   "outputs": [],
   "source": [
    "#''' using this to bin the data in to groups to later use the groupby udf and collect the results later\n",
    "@pandas_udf('double')#, PandasUDFType.SCALAR)\n",
    "\n",
    "def pandas_plus(v):\n",
    "    return v + 1 # define suitable binning criteria to group data for delaunay\n",
    "\n",
    "df4.withColumn('New', pandas_plus(df4.Z)).show(6)\n",
    "#df5 = df4.withColumn('New', pandas_plus(df4.Z))\n",
    "#'''"
   ]
  },
  {
   "cell_type": "code",
   "execution_count": null,
   "metadata": {
    "scrolled": true
   },
   "outputs": [],
   "source": [
    "#df5.show(9)"
   ]
  },
  {
   "cell_type": "code",
   "execution_count": null,
   "metadata": {},
   "outputs": [],
   "source": [
    "#df4.take(5)"
   ]
  },
  {
   "cell_type": "code",
   "execution_count": null,
   "metadata": {},
   "outputs": [],
   "source": [
    "df_pandas = df4.select(\"*\").toPandas() \n",
    "# this is loading all the data in to memory, which wont work for larger data sets\n",
    "# checking alternatives and possibly going to use pandas UDFs\n",
    "\n",
    "'''\n",
    "\n",
    "df4_schema = df4.schema\n",
    "\n",
    "@pandas_udf(df4_schema, PandasUDFType.GROUPED_MAP)  # Input/output are both a pandas.DataFrame\n",
    "def delaunay(pdf):\n",
    "    # pdf is a pandas.DataFrame\n",
    "    group_key = pdf['New']\n",
    "    xpanda = df_pandas['X']\n",
    "    ypanda = df_pandas['Y']\n",
    "    zpanda = df_pandas['Z']\n",
    "    \n",
    "    m_triang, args, kwargs = mtri.Triangulation.get_from_args_and_kwargs(xpanda, ypanda, zpanda)\n",
    "    triangles = m_triang.get_masked_triangles()\n",
    "    return pd.DataFrame ([group_key] + triangles)\n",
    "\n",
    "df5 = df.groupby(\"New\").apply(delaunay).show()\n",
    "\n",
    "'''"
   ]
  },
  {
   "cell_type": "code",
   "execution_count": null,
   "metadata": {},
   "outputs": [],
   "source": [
    "#print(type(df_pandas))"
   ]
  },
  {
   "cell_type": "code",
   "execution_count": null,
   "metadata": {},
   "outputs": [],
   "source": [
    "# running this gives the below error\n",
    "# AttributeError: 'DataFrame' object has no attribute 'rdd'\n",
    "#df_pandas.rdd.getNumPartitions()"
   ]
  },
  {
   "cell_type": "code",
   "execution_count": null,
   "metadata": {},
   "outputs": [],
   "source": [
    "# trying to figure out how many partisions are there in the pandas dataframe by writing and counting the files but\n",
    "# AttributeError: 'DataFrame' object has no attribute 'write'\n",
    "#df_pandas.write.csv(\"C:\\\\Users\\\\dilip\\\\numbers0005\")"
   ]
  },
  {
   "cell_type": "code",
   "execution_count": null,
   "metadata": {},
   "outputs": [],
   "source": [
    "xpanda = df_pandas['X'].to_numpy()\n",
    "ypanda = df_pandas['Y'].to_numpy()\n",
    "zpanda = df_pandas['Z'].to_numpy()"
   ]
  },
  {
   "cell_type": "code",
   "execution_count": null,
   "metadata": {},
   "outputs": [],
   "source": [
    "#print(type(xpanda))   # >><class 'numpy.ndarray'>"
   ]
  },
  {
   "cell_type": "code",
   "execution_count": null,
   "metadata": {},
   "outputs": [],
   "source": [
    "xypandas = df_pandas[['X', 'Y']].to_numpy()  # for providing in delaunay"
   ]
  },
  {
   "cell_type": "code",
   "execution_count": null,
   "metadata": {},
   "outputs": [],
   "source": [
    "#xarray = np.array(df4.select('Xaxis').collect()) this will collect data from all the nodes \n",
    "#which might lead to memry issues\n",
    "'''\n",
    "xarray = np.array(df4.select('Xaxis').collect())\n",
    "yarray = np.array(df4.select('Yaxis').collect())\n",
    "zarray = np.array(df4.select('Zaxis').collect())\n",
    "'''"
   ]
  },
  {
   "cell_type": "code",
   "execution_count": null,
   "metadata": {},
   "outputs": [],
   "source": [
    "#xy_data_array =  np.array(df4.select(\"Xaxis\", \"Yaxis\").collect())"
   ]
  },
  {
   "cell_type": "code",
   "execution_count": null,
   "metadata": {},
   "outputs": [],
   "source": []
  },
  {
   "cell_type": "code",
   "execution_count": null,
   "metadata": {},
   "outputs": [],
   "source": [
    "''' working\n",
    "triang = mtri.Triangulation(xpanda, ypanda, triangles=None)\n",
    "fig, ax = plt.subplots(subplot_kw =dict(projection=\"3d\"))\n",
    "ax.plot_trisurf(triang, zpanda)\n",
    "plt.title('house Delaunay triangulation')\n",
    "plt.show()\n",
    "\n",
    "'''"
   ]
  },
  {
   "cell_type": "code",
   "execution_count": null,
   "metadata": {},
   "outputs": [],
   "source": [
    "x = xpanda.flatten()\n",
    "y = ypanda.flatten()\n",
    "z = zpanda\n",
    "tri, args, kwargs = mtri.Triangulation.get_from_args_and_kwargs(x, y, z)\n",
    "triangles = tri.get_masked_triangles()\n",
    "xt = tri.x[triangles][..., np.newaxis]\n",
    "yt = tri.y[triangles][..., np.newaxis]\n",
    "zt = z[triangles][..., np.newaxis]\n",
    "\n",
    "verts = np.concatenate((xt, yt, zt), axis=2)"
   ]
  },
  {
   "cell_type": "code",
   "execution_count": null,
   "metadata": {},
   "outputs": [],
   "source": []
  },
  {
   "cell_type": "code",
   "execution_count": null,
   "metadata": {},
   "outputs": [],
   "source": []
  },
  {
   "cell_type": "code",
   "execution_count": null,
   "metadata": {},
   "outputs": [],
   "source": []
  },
  {
   "cell_type": "code",
   "execution_count": null,
   "metadata": {},
   "outputs": [],
   "source": []
  },
  {
   "cell_type": "code",
   "execution_count": null,
   "metadata": {},
   "outputs": [],
   "source": [
    "fig = go.Figure(data=[go.Mesh3d(x=xpanda, y=ypanda, z=zpanda,\n",
    "                   alphahull=-1,\n",
    "                   opacity=0.9,\n",
    "                   color='green')])\n",
    "fig.show()\n"
   ]
  },
  {
   "cell_type": "code",
   "execution_count": null,
   "metadata": {},
   "outputs": [],
   "source": []
  },
  {
   "cell_type": "code",
   "execution_count": null,
   "metadata": {},
   "outputs": [],
   "source": [
    "# works with xy_data_array\n",
    "#sp_triag = Delaunay(xy_data_array)\n",
    "sp_triag = Delaunay(xypandas)"
   ]
  },
  {
   "cell_type": "code",
   "execution_count": null,
   "metadata": {},
   "outputs": [],
   "source": [
    "#print(type(sp_triag.simplices))"
   ]
  },
  {
   "cell_type": "code",
   "execution_count": null,
   "metadata": {},
   "outputs": [],
   "source": [
    "tri_vertex_index = sp_triag.simplices.astype(float)"
   ]
  },
  {
   "cell_type": "code",
   "execution_count": null,
   "metadata": {},
   "outputs": [],
   "source": [
    "#type(tri_vertex_index)"
   ]
  },
  {
   "cell_type": "code",
   "execution_count": null,
   "metadata": {},
   "outputs": [],
   "source": [
    "#len(sp_triag.simplices)"
   ]
  },
  {
   "cell_type": "code",
   "execution_count": null,
   "metadata": {},
   "outputs": [],
   "source": [
    "# plotly set up\n",
    "# defining the coloring\n",
    "def map_z2color(zval, colormap, vmin, vmax):\n",
    "    #map the normalized value zval to a corresponding color in the colormap\n",
    "\n",
    "    if vmin>vmax:\n",
    "        raise ValueError('incorrect relation between vmin and vmax')\n",
    "    t=(zval-vmin)/float((vmax-vmin))#normalize val\n",
    "    R, G, B, alpha=colormap(t)\n",
    "    return 'rgb('+'{:d}'.format(int(R*255+0.5))+','+'{:d}'.format(int(G*255+0.5))+\\\n",
    "           ','+'{:d}'.format(int(B*255+0.5))+')'"
   ]
  },
  {
   "cell_type": "code",
   "execution_count": null,
   "metadata": {},
   "outputs": [],
   "source": [
    "#defining the indicies\n",
    "def tri_indices(simplices):\n",
    "    #simplices is a numpy array defining the simplices of the triangularization\n",
    "    #returns the lists of indices i, j, k\n",
    "\n",
    "    return ([triplet[c] for triplet in simplices] for c in range(3))"
   ]
  },
  {
   "cell_type": "code",
   "execution_count": null,
   "metadata": {},
   "outputs": [],
   "source": [
    "# define trisurf\n",
    "def plotly_trisurf(x, y, z, simplices, colormap=cm.RdBu, plot_edges=None):\n",
    "    #x, y, z are lists of coordinates of the triangle vertices \n",
    "    #simplices are the simplices that define the triangularization;\n",
    "    #simplices  is a numpy array of shape (no_triangles, 3)\n",
    "    #insert here the  type check for input data\n",
    "\n",
    "    points3D=np.vstack((x,y,z)).T\n",
    "    tri_vertices=map(lambda index: points3D[index], simplices)# vertices of the surface triangles     \n",
    "    zmean=[np.mean(tri[:,2]) for tri in tri_vertices ]# mean values of z-coordinates of \n",
    "                                                      #triangle vertices\n",
    "    min_zmean=np.min(zmean)\n",
    "    max_zmean=np.max(zmean)\n",
    "    facecolor=[map_z2color(zz,  colormap, min_zmean, max_zmean) for zz in zmean]\n",
    "    I,J,K=tri_indices(simplices)\n",
    "\n",
    "    triangles=go.Mesh3d(x=x,\n",
    "                     y=y,\n",
    "                     z=z,\n",
    "                     facecolor=facecolor,\n",
    "                     i=I,\n",
    "                     j=J,\n",
    "                     k=K,\n",
    "                     name=''\n",
    "                    )\n",
    "\n",
    "    if plot_edges is None:# the triangle sides are not plotted \n",
    "        return [triangles]\n",
    "    else:\n",
    "        #define the lists Xe, Ye, Ze, of x, y, resp z coordinates of edge end points for each triangle\n",
    "        #None separates data corresponding to two consecutive triangles\n",
    "        lists_coord=[[[T[k%3][c] for k in range(4)]+[ None]   for T in tri_vertices]  for c in range(3)]\n",
    "        Xe, Ye, Ze=[reduce(lambda x,y: x+y, lists_coord[k]) for k in range(3)]\n",
    "\n",
    "        #define the lines to be plotted\n",
    "        lines=go.Scatter3d(x=Xe,\n",
    "                        y=Ye,\n",
    "                        z=Ze,\n",
    "                        mode='lines',\n",
    "                        line=dict(color= 'rgb(0,0,0)', width=1.5)\n",
    "                        #line=dict(color= 'rgb(50,50,50)', width=1.5)\n",
    "               )\n",
    "        return [triangles, lines]"
   ]
  },
  {
   "cell_type": "code",
   "execution_count": null,
   "metadata": {},
   "outputs": [],
   "source": [
    "# setting the layout using the standard will update later based on requirement\n",
    "axis = dict(\n",
    "showbackground=True,\n",
    "backgroundcolor=\"rgb(230, 230,230)\",\n",
    "gridcolor=\"rgb(255, 255, 255)\",\n",
    "zerolinecolor=\"rgb(255, 255, 255)\",\n",
    "    )\n",
    "\n",
    "layout = go.Layout(\n",
    "         title='default title',\n",
    "         width=800,\n",
    "         height=800,\n",
    "         scene=dict(\n",
    "         xaxis=dict(axis),\n",
    "         yaxis=dict(axis),\n",
    "         zaxis=dict(axis),\n",
    "        aspectratio=dict( x=1, y=1, z=0.5),\n",
    "        )\n",
    "        )"
   ]
  },
  {
   "cell_type": "code",
   "execution_count": null,
   "metadata": {},
   "outputs": [],
   "source": [
    "# plot figure by updting the parameters\n",
    "#'''       \n",
    "#data2 = plotly_trisurf(xpanda, ypanda, zpanda, sp_triag.simplices, colormap=cm.cubehelix, plot_edges=None) \n",
    "data2 = plotly_trisurf(xpanda, ypanda, zpanda, triangles, colormap=cm.cubehelix, plot_edges=None)\n",
    "\n",
    "\n",
    "# updating the layout for plotting\n",
    "fig2 = go.Figure(data=data2, layout = layout)\n",
    "fig2['layout'].update(dict(title='House using mtplotlib.delaynay triangulation',\n",
    "                          scene=dict(camera=dict(eye=dict(x=1.75,\n",
    "                                                          y=-0.7,\n",
    "                                                          z= 0.75)\n",
    "                                                )\n",
    "                                    )))\n",
    "\n",
    "py.offline.iplot(fig2, filename='trisurf-surface-pyspark')\n",
    "\n",
    "#'''"
   ]
  },
  {
   "cell_type": "code",
   "execution_count": null,
   "metadata": {},
   "outputs": [],
   "source": [
    "# plot figure by updting the parameters\n",
    "#'''       \n",
    "data2 = plotly_trisurf(xpanda, ypanda, zpanda, sp_triag.simplices, colormap=cm.cubehelix, plot_edges=None) \n",
    "#data2 = plotly_trisurf(xpanda, ypanda, zpanda, triangles, colormap=cm.cubehelix, plot_edges=None)\n",
    "\n",
    "\n",
    "# updating the layout for plotting\n",
    "fig2 = go.Figure(data=data2, layout = layout)\n",
    "fig2['layout'].update(dict(title='House using SciPy.delaynay triangulation',\n",
    "                          scene=dict(camera=dict(eye=dict(x=1.75,\n",
    "                                                          y=-0.7,\n",
    "                                                          z= 0.75)\n",
    "                                                )\n",
    "                                    )))\n",
    "\n",
    "py.offline.iplot(fig2, filename='House using SciPy.delaynay triangulation')\n",
    "\n",
    "#'''"
   ]
  },
  {
   "cell_type": "code",
   "execution_count": null,
   "metadata": {},
   "outputs": [],
   "source": [
    "# to save static plots \n",
    "'''\n",
    "import os\n",
    "\n",
    "if not os.path.exists(\"images\"):\n",
    "    os.mkdir(\"images\")\n",
    "    \n",
    "    \n",
    "#fig.write_image(\"images/TIN.png\") \n",
    "fig2.write_image(\"images/02NW.jpeg\")\n",
    "#fig.write_image(\"images/fig1.webp\")\n",
    "#fig.write_image(\"images/fig1.svg\")\n",
    "#fig.write_image(\"images/TINFOIL.pdf\")\n",
    "\n",
    "'''"
   ]
  },
  {
   "cell_type": "code",
   "execution_count": null,
   "metadata": {},
   "outputs": [],
   "source": []
  }
 ],
 "metadata": {
  "kernelspec": {
   "display_name": "Python 3",
   "language": "python",
   "name": "python3"
  },
  "language_info": {
   "codemirror_mode": {
    "name": "ipython",
    "version": 3
   },
   "file_extension": ".py",
   "mimetype": "text/x-python",
   "name": "python",
   "nbconvert_exporter": "python",
   "pygments_lexer": "ipython3",
   "version": "3.7.3"
  }
 },
 "nbformat": 4,
 "nbformat_minor": 2
}
